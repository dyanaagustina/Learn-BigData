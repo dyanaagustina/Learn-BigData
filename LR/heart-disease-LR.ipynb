{
 "metadata": {
  "language_info": {
   "codemirror_mode": {
    "name": "ipython",
    "version": 3
   },
   "file_extension": ".py",
   "mimetype": "text/x-python",
   "name": "python",
   "nbconvert_exporter": "python",
   "pygments_lexer": "ipython3",
   "version": "3.9.1-final"
  },
  "orig_nbformat": 2,
  "kernelspec": {
   "name": "python3",
   "display_name": "Python 3.9.1 64-bit",
   "metadata": {
    "interpreter": {
     "hash": "aee8b7b246df8f9039afb4144a1f6fd8d2ca17a180786b69acc140d282b71a49"
    }
   }
  }
 },
 "nbformat": 4,
 "nbformat_minor": 2,
 "cells": [
  {
   "cell_type": "code",
   "execution_count": 203,
   "metadata": {},
   "outputs": [
    {
     "output_type": "execute_result",
     "data": {
      "text/plain": [
       "     age  sex  cp  trestbps  chol  fbs  ...  exang  oldpeak  slope  ca  thal  target\n",
       "0     63    1   3       145   233    1  ...      0      2.3      0   0     1       1\n",
       "1     37    1   2       130   250    0  ...      0      3.5      0   0     2       1\n",
       "2     41    0   1       130   204    0  ...      0      1.4      2   0     2       1\n",
       "3     56    1   1       120   236    0  ...      0      0.8      2   0     2       1\n",
       "4     57    0   0       120   354    0  ...      1      0.6      2   0     2       1\n",
       "..   ...  ...  ..       ...   ...  ...  ...    ...      ...    ...  ..   ...     ...\n",
       "298   57    0   0       140   241    0  ...      1      0.2      1   0     3       0\n",
       "299   45    1   3       110   264    0  ...      0      1.2      1   0     3       0\n",
       "300   68    1   0       144   193    1  ...      0      3.4      1   2     3       0\n",
       "301   57    1   0       130   131    0  ...      1      1.2      1   1     3       0\n",
       "302   57    0   1       130   236    0  ...      0      0.0      1   1     2       0\n",
       "\n",
       "[303 rows x 14 columns]"
      ],
      "text/html": "<div>\n<style scoped>\n    .dataframe tbody tr th:only-of-type {\n        vertical-align: middle;\n    }\n\n    .dataframe tbody tr th {\n        vertical-align: top;\n    }\n\n    .dataframe thead th {\n        text-align: right;\n    }\n</style>\n<table border=\"1\" class=\"dataframe\">\n  <thead>\n    <tr style=\"text-align: right;\">\n      <th></th>\n      <th>age</th>\n      <th>sex</th>\n      <th>cp</th>\n      <th>trestbps</th>\n      <th>chol</th>\n      <th>fbs</th>\n      <th>restecg</th>\n      <th>thalach</th>\n      <th>exang</th>\n      <th>oldpeak</th>\n      <th>slope</th>\n      <th>ca</th>\n      <th>thal</th>\n      <th>target</th>\n    </tr>\n  </thead>\n  <tbody>\n    <tr>\n      <th>0</th>\n      <td>63</td>\n      <td>1</td>\n      <td>3</td>\n      <td>145</td>\n      <td>233</td>\n      <td>1</td>\n      <td>0</td>\n      <td>150</td>\n      <td>0</td>\n      <td>2.3</td>\n      <td>0</td>\n      <td>0</td>\n      <td>1</td>\n      <td>1</td>\n    </tr>\n    <tr>\n      <th>1</th>\n      <td>37</td>\n      <td>1</td>\n      <td>2</td>\n      <td>130</td>\n      <td>250</td>\n      <td>0</td>\n      <td>1</td>\n      <td>187</td>\n      <td>0</td>\n      <td>3.5</td>\n      <td>0</td>\n      <td>0</td>\n      <td>2</td>\n      <td>1</td>\n    </tr>\n    <tr>\n      <th>2</th>\n      <td>41</td>\n      <td>0</td>\n      <td>1</td>\n      <td>130</td>\n      <td>204</td>\n      <td>0</td>\n      <td>0</td>\n      <td>172</td>\n      <td>0</td>\n      <td>1.4</td>\n      <td>2</td>\n      <td>0</td>\n      <td>2</td>\n      <td>1</td>\n    </tr>\n    <tr>\n      <th>3</th>\n      <td>56</td>\n      <td>1</td>\n      <td>1</td>\n      <td>120</td>\n      <td>236</td>\n      <td>0</td>\n      <td>1</td>\n      <td>178</td>\n      <td>0</td>\n      <td>0.8</td>\n      <td>2</td>\n      <td>0</td>\n      <td>2</td>\n      <td>1</td>\n    </tr>\n    <tr>\n      <th>4</th>\n      <td>57</td>\n      <td>0</td>\n      <td>0</td>\n      <td>120</td>\n      <td>354</td>\n      <td>0</td>\n      <td>1</td>\n      <td>163</td>\n      <td>1</td>\n      <td>0.6</td>\n      <td>2</td>\n      <td>0</td>\n      <td>2</td>\n      <td>1</td>\n    </tr>\n    <tr>\n      <th>...</th>\n      <td>...</td>\n      <td>...</td>\n      <td>...</td>\n      <td>...</td>\n      <td>...</td>\n      <td>...</td>\n      <td>...</td>\n      <td>...</td>\n      <td>...</td>\n      <td>...</td>\n      <td>...</td>\n      <td>...</td>\n      <td>...</td>\n      <td>...</td>\n    </tr>\n    <tr>\n      <th>298</th>\n      <td>57</td>\n      <td>0</td>\n      <td>0</td>\n      <td>140</td>\n      <td>241</td>\n      <td>0</td>\n      <td>1</td>\n      <td>123</td>\n      <td>1</td>\n      <td>0.2</td>\n      <td>1</td>\n      <td>0</td>\n      <td>3</td>\n      <td>0</td>\n    </tr>\n    <tr>\n      <th>299</th>\n      <td>45</td>\n      <td>1</td>\n      <td>3</td>\n      <td>110</td>\n      <td>264</td>\n      <td>0</td>\n      <td>1</td>\n      <td>132</td>\n      <td>0</td>\n      <td>1.2</td>\n      <td>1</td>\n      <td>0</td>\n      <td>3</td>\n      <td>0</td>\n    </tr>\n    <tr>\n      <th>300</th>\n      <td>68</td>\n      <td>1</td>\n      <td>0</td>\n      <td>144</td>\n      <td>193</td>\n      <td>1</td>\n      <td>1</td>\n      <td>141</td>\n      <td>0</td>\n      <td>3.4</td>\n      <td>1</td>\n      <td>2</td>\n      <td>3</td>\n      <td>0</td>\n    </tr>\n    <tr>\n      <th>301</th>\n      <td>57</td>\n      <td>1</td>\n      <td>0</td>\n      <td>130</td>\n      <td>131</td>\n      <td>0</td>\n      <td>1</td>\n      <td>115</td>\n      <td>1</td>\n      <td>1.2</td>\n      <td>1</td>\n      <td>1</td>\n      <td>3</td>\n      <td>0</td>\n    </tr>\n    <tr>\n      <th>302</th>\n      <td>57</td>\n      <td>0</td>\n      <td>1</td>\n      <td>130</td>\n      <td>236</td>\n      <td>0</td>\n      <td>0</td>\n      <td>174</td>\n      <td>0</td>\n      <td>0.0</td>\n      <td>1</td>\n      <td>1</td>\n      <td>2</td>\n      <td>0</td>\n    </tr>\n  </tbody>\n</table>\n<p>303 rows × 14 columns</p>\n</div>"
     },
     "metadata": {},
     "execution_count": 203
    }
   ],
   "source": [
    "import pandas as pds\n",
    "import seaborn as sbn\n",
    "import numpy as npy\n",
    "import matplotlib.pyplot as plb\n",
    "import statsmodels.api as sm\n",
    "\n",
    "from sklearn.model_selection import train_test_split\n",
    "from sklearn.linear_model import LogisticRegression\n",
    "from sklearn.preprocessing import StandardScaler\n",
    "from sklearn.metrics import confusion_matrix, classification_report\n",
    "\n",
    "\n",
    "data_heart = pds.read_csv('heart.csv')\n",
    "data_heart"
   ]
  },
  {
   "cell_type": "code",
   "execution_count": 193,
   "metadata": {},
   "outputs": [
    {
     "output_type": "execute_result",
     "data": {
      "text/plain": [
       "(303, 14)"
      ]
     },
     "metadata": {},
     "execution_count": 193
    }
   ],
   "source": [
    "data_heart.shape"
   ]
  },
  {
   "cell_type": "code",
   "execution_count": 194,
   "metadata": {},
   "outputs": [
    {
     "output_type": "stream",
     "name": "stdout",
     "text": [
      "<class 'pandas.core.frame.DataFrame'>\nRangeIndex: 303 entries, 0 to 302\nData columns (total 14 columns):\n #   Column    Non-Null Count  Dtype  \n---  ------    --------------  -----  \n 0   age       303 non-null    int64  \n 1   sex       303 non-null    int64  \n 2   cp        303 non-null    int64  \n 3   trestbps  303 non-null    int64  \n 4   chol      303 non-null    int64  \n 5   fbs       303 non-null    int64  \n 6   restecg   303 non-null    int64  \n 7   thalach   303 non-null    int64  \n 8   exang     303 non-null    int64  \n 9   oldpeak   303 non-null    float64\n 10  slope     303 non-null    int64  \n 11  ca        303 non-null    int64  \n 12  thal      303 non-null    int64  \n 13  target    303 non-null    int64  \ndtypes: float64(1), int64(13)\nmemory usage: 33.3 KB\n"
     ]
    }
   ],
   "source": [
    "data_heart.info()"
   ]
  },
  {
   "cell_type": "code",
   "execution_count": 195,
   "metadata": {},
   "outputs": [
    {
     "output_type": "execute_result",
     "data": {
      "text/plain": [
       "age         0\n",
       "sex         0\n",
       "cp          0\n",
       "trestbps    0\n",
       "chol        0\n",
       "fbs         0\n",
       "restecg     0\n",
       "thalach     0\n",
       "exang       0\n",
       "oldpeak     0\n",
       "slope       0\n",
       "ca          0\n",
       "thal        0\n",
       "target      0\n",
       "dtype: int64"
      ]
     },
     "metadata": {},
     "execution_count": 195
    }
   ],
   "source": [
    "data_heart.isnull().sum()"
   ]
  },
  {
   "cell_type": "code",
   "execution_count": 196,
   "metadata": {},
   "outputs": [
    {
     "output_type": "execute_result",
     "data": {
      "text/plain": [
       "              age         sex          cp  ...          ca        thal      target\n",
       "count  303.000000  303.000000  303.000000  ...  303.000000  303.000000  303.000000\n",
       "mean    54.366337    0.683168    0.966997  ...    0.729373    2.313531    0.544554\n",
       "std      9.082101    0.466011    1.032052  ...    1.022606    0.612277    0.498835\n",
       "min     29.000000    0.000000    0.000000  ...    0.000000    0.000000    0.000000\n",
       "25%     47.500000    0.000000    0.000000  ...    0.000000    2.000000    0.000000\n",
       "50%     55.000000    1.000000    1.000000  ...    0.000000    2.000000    1.000000\n",
       "75%     61.000000    1.000000    2.000000  ...    1.000000    3.000000    1.000000\n",
       "max     77.000000    1.000000    3.000000  ...    4.000000    3.000000    1.000000\n",
       "\n",
       "[8 rows x 14 columns]"
      ],
      "text/html": "<div>\n<style scoped>\n    .dataframe tbody tr th:only-of-type {\n        vertical-align: middle;\n    }\n\n    .dataframe tbody tr th {\n        vertical-align: top;\n    }\n\n    .dataframe thead th {\n        text-align: right;\n    }\n</style>\n<table border=\"1\" class=\"dataframe\">\n  <thead>\n    <tr style=\"text-align: right;\">\n      <th></th>\n      <th>age</th>\n      <th>sex</th>\n      <th>cp</th>\n      <th>trestbps</th>\n      <th>chol</th>\n      <th>fbs</th>\n      <th>restecg</th>\n      <th>thalach</th>\n      <th>exang</th>\n      <th>oldpeak</th>\n      <th>slope</th>\n      <th>ca</th>\n      <th>thal</th>\n      <th>target</th>\n    </tr>\n  </thead>\n  <tbody>\n    <tr>\n      <th>count</th>\n      <td>303.000000</td>\n      <td>303.000000</td>\n      <td>303.000000</td>\n      <td>303.000000</td>\n      <td>303.000000</td>\n      <td>303.000000</td>\n      <td>303.000000</td>\n      <td>303.000000</td>\n      <td>303.000000</td>\n      <td>303.000000</td>\n      <td>303.000000</td>\n      <td>303.000000</td>\n      <td>303.000000</td>\n      <td>303.000000</td>\n    </tr>\n    <tr>\n      <th>mean</th>\n      <td>54.366337</td>\n      <td>0.683168</td>\n      <td>0.966997</td>\n      <td>131.623762</td>\n      <td>246.264026</td>\n      <td>0.148515</td>\n      <td>0.528053</td>\n      <td>149.646865</td>\n      <td>0.326733</td>\n      <td>1.039604</td>\n      <td>1.399340</td>\n      <td>0.729373</td>\n      <td>2.313531</td>\n      <td>0.544554</td>\n    </tr>\n    <tr>\n      <th>std</th>\n      <td>9.082101</td>\n      <td>0.466011</td>\n      <td>1.032052</td>\n      <td>17.538143</td>\n      <td>51.830751</td>\n      <td>0.356198</td>\n      <td>0.525860</td>\n      <td>22.905161</td>\n      <td>0.469794</td>\n      <td>1.161075</td>\n      <td>0.616226</td>\n      <td>1.022606</td>\n      <td>0.612277</td>\n      <td>0.498835</td>\n    </tr>\n    <tr>\n      <th>min</th>\n      <td>29.000000</td>\n      <td>0.000000</td>\n      <td>0.000000</td>\n      <td>94.000000</td>\n      <td>126.000000</td>\n      <td>0.000000</td>\n      <td>0.000000</td>\n      <td>71.000000</td>\n      <td>0.000000</td>\n      <td>0.000000</td>\n      <td>0.000000</td>\n      <td>0.000000</td>\n      <td>0.000000</td>\n      <td>0.000000</td>\n    </tr>\n    <tr>\n      <th>25%</th>\n      <td>47.500000</td>\n      <td>0.000000</td>\n      <td>0.000000</td>\n      <td>120.000000</td>\n      <td>211.000000</td>\n      <td>0.000000</td>\n      <td>0.000000</td>\n      <td>133.500000</td>\n      <td>0.000000</td>\n      <td>0.000000</td>\n      <td>1.000000</td>\n      <td>0.000000</td>\n      <td>2.000000</td>\n      <td>0.000000</td>\n    </tr>\n    <tr>\n      <th>50%</th>\n      <td>55.000000</td>\n      <td>1.000000</td>\n      <td>1.000000</td>\n      <td>130.000000</td>\n      <td>240.000000</td>\n      <td>0.000000</td>\n      <td>1.000000</td>\n      <td>153.000000</td>\n      <td>0.000000</td>\n      <td>0.800000</td>\n      <td>1.000000</td>\n      <td>0.000000</td>\n      <td>2.000000</td>\n      <td>1.000000</td>\n    </tr>\n    <tr>\n      <th>75%</th>\n      <td>61.000000</td>\n      <td>1.000000</td>\n      <td>2.000000</td>\n      <td>140.000000</td>\n      <td>274.500000</td>\n      <td>0.000000</td>\n      <td>1.000000</td>\n      <td>166.000000</td>\n      <td>1.000000</td>\n      <td>1.600000</td>\n      <td>2.000000</td>\n      <td>1.000000</td>\n      <td>3.000000</td>\n      <td>1.000000</td>\n    </tr>\n    <tr>\n      <th>max</th>\n      <td>77.000000</td>\n      <td>1.000000</td>\n      <td>3.000000</td>\n      <td>200.000000</td>\n      <td>564.000000</td>\n      <td>1.000000</td>\n      <td>2.000000</td>\n      <td>202.000000</td>\n      <td>1.000000</td>\n      <td>6.200000</td>\n      <td>2.000000</td>\n      <td>4.000000</td>\n      <td>3.000000</td>\n      <td>1.000000</td>\n    </tr>\n  </tbody>\n</table>\n</div>"
     },
     "metadata": {},
     "execution_count": 196
    }
   ],
   "source": [
    "data_heart.describe()"
   ]
  },
  {
   "cell_type": "code",
   "execution_count": 222,
   "metadata": {},
   "outputs": [
    {
     "output_type": "execute_result",
     "data": {
      "text/plain": [
       "          age       sex        cp  ...     slope        ca      thal\n",
       "0    0.952197  0.681005  1.973123  ... -2.274579 -0.714429 -2.148873\n",
       "1   -1.915313  0.681005  1.002577  ... -2.274579 -0.714429 -0.512922\n",
       "2   -1.474158 -1.468418  0.032031  ...  0.976352 -0.714429 -0.512922\n",
       "3    0.180175  0.681005  0.032031  ...  0.976352 -0.714429 -0.512922\n",
       "4    0.290464 -1.468418 -0.938515  ...  0.976352 -0.714429 -0.512922\n",
       "..        ...       ...       ...  ...       ...       ...       ...\n",
       "298  0.290464 -1.468418 -0.938515  ... -0.649113 -0.714429  1.123029\n",
       "299 -1.033002  0.681005  1.973123  ... -0.649113 -0.714429  1.123029\n",
       "300  1.503641  0.681005 -0.938515  ... -0.649113  1.244593  1.123029\n",
       "301  0.290464  0.681005 -0.938515  ... -0.649113  0.265082  1.123029\n",
       "302  0.290464 -1.468418  0.032031  ... -0.649113  0.265082 -0.512922\n",
       "\n",
       "[303 rows x 13 columns]"
      ],
      "text/html": "<div>\n<style scoped>\n    .dataframe tbody tr th:only-of-type {\n        vertical-align: middle;\n    }\n\n    .dataframe tbody tr th {\n        vertical-align: top;\n    }\n\n    .dataframe thead th {\n        text-align: right;\n    }\n</style>\n<table border=\"1\" class=\"dataframe\">\n  <thead>\n    <tr style=\"text-align: right;\">\n      <th></th>\n      <th>age</th>\n      <th>sex</th>\n      <th>cp</th>\n      <th>trestbps</th>\n      <th>chol</th>\n      <th>fbs</th>\n      <th>restecg</th>\n      <th>thalach</th>\n      <th>exang</th>\n      <th>oldpeak</th>\n      <th>slope</th>\n      <th>ca</th>\n      <th>thal</th>\n    </tr>\n  </thead>\n  <tbody>\n    <tr>\n      <th>0</th>\n      <td>0.952197</td>\n      <td>0.681005</td>\n      <td>1.973123</td>\n      <td>0.763956</td>\n      <td>-0.256334</td>\n      <td>2.394438</td>\n      <td>-1.005832</td>\n      <td>0.015443</td>\n      <td>-0.696631</td>\n      <td>1.087338</td>\n      <td>-2.274579</td>\n      <td>-0.714429</td>\n      <td>-2.148873</td>\n    </tr>\n    <tr>\n      <th>1</th>\n      <td>-1.915313</td>\n      <td>0.681005</td>\n      <td>1.002577</td>\n      <td>-0.092738</td>\n      <td>0.072199</td>\n      <td>-0.417635</td>\n      <td>0.898962</td>\n      <td>1.633471</td>\n      <td>-0.696631</td>\n      <td>2.122573</td>\n      <td>-2.274579</td>\n      <td>-0.714429</td>\n      <td>-0.512922</td>\n    </tr>\n    <tr>\n      <th>2</th>\n      <td>-1.474158</td>\n      <td>-1.468418</td>\n      <td>0.032031</td>\n      <td>-0.092738</td>\n      <td>-0.816773</td>\n      <td>-0.417635</td>\n      <td>-1.005832</td>\n      <td>0.977514</td>\n      <td>-0.696631</td>\n      <td>0.310912</td>\n      <td>0.976352</td>\n      <td>-0.714429</td>\n      <td>-0.512922</td>\n    </tr>\n    <tr>\n      <th>3</th>\n      <td>0.180175</td>\n      <td>0.681005</td>\n      <td>0.032031</td>\n      <td>-0.663867</td>\n      <td>-0.198357</td>\n      <td>-0.417635</td>\n      <td>0.898962</td>\n      <td>1.239897</td>\n      <td>-0.696631</td>\n      <td>-0.206705</td>\n      <td>0.976352</td>\n      <td>-0.714429</td>\n      <td>-0.512922</td>\n    </tr>\n    <tr>\n      <th>4</th>\n      <td>0.290464</td>\n      <td>-1.468418</td>\n      <td>-0.938515</td>\n      <td>-0.663867</td>\n      <td>2.082050</td>\n      <td>-0.417635</td>\n      <td>0.898962</td>\n      <td>0.583939</td>\n      <td>1.435481</td>\n      <td>-0.379244</td>\n      <td>0.976352</td>\n      <td>-0.714429</td>\n      <td>-0.512922</td>\n    </tr>\n    <tr>\n      <th>...</th>\n      <td>...</td>\n      <td>...</td>\n      <td>...</td>\n      <td>...</td>\n      <td>...</td>\n      <td>...</td>\n      <td>...</td>\n      <td>...</td>\n      <td>...</td>\n      <td>...</td>\n      <td>...</td>\n      <td>...</td>\n      <td>...</td>\n    </tr>\n    <tr>\n      <th>298</th>\n      <td>0.290464</td>\n      <td>-1.468418</td>\n      <td>-0.938515</td>\n      <td>0.478391</td>\n      <td>-0.101730</td>\n      <td>-0.417635</td>\n      <td>0.898962</td>\n      <td>-1.165281</td>\n      <td>1.435481</td>\n      <td>-0.724323</td>\n      <td>-0.649113</td>\n      <td>-0.714429</td>\n      <td>1.123029</td>\n    </tr>\n    <tr>\n      <th>299</th>\n      <td>-1.033002</td>\n      <td>0.681005</td>\n      <td>1.973123</td>\n      <td>-1.234996</td>\n      <td>0.342756</td>\n      <td>-0.417635</td>\n      <td>0.898962</td>\n      <td>-0.771706</td>\n      <td>-0.696631</td>\n      <td>0.138373</td>\n      <td>-0.649113</td>\n      <td>-0.714429</td>\n      <td>1.123029</td>\n    </tr>\n    <tr>\n      <th>300</th>\n      <td>1.503641</td>\n      <td>0.681005</td>\n      <td>-0.938515</td>\n      <td>0.706843</td>\n      <td>-1.029353</td>\n      <td>2.394438</td>\n      <td>0.898962</td>\n      <td>-0.378132</td>\n      <td>-0.696631</td>\n      <td>2.036303</td>\n      <td>-0.649113</td>\n      <td>1.244593</td>\n      <td>1.123029</td>\n    </tr>\n    <tr>\n      <th>301</th>\n      <td>0.290464</td>\n      <td>0.681005</td>\n      <td>-0.938515</td>\n      <td>-0.092738</td>\n      <td>-2.227533</td>\n      <td>-0.417635</td>\n      <td>0.898962</td>\n      <td>-1.515125</td>\n      <td>1.435481</td>\n      <td>0.138373</td>\n      <td>-0.649113</td>\n      <td>0.265082</td>\n      <td>1.123029</td>\n    </tr>\n    <tr>\n      <th>302</th>\n      <td>0.290464</td>\n      <td>-1.468418</td>\n      <td>0.032031</td>\n      <td>-0.092738</td>\n      <td>-0.198357</td>\n      <td>-0.417635</td>\n      <td>-1.005832</td>\n      <td>1.064975</td>\n      <td>-0.696631</td>\n      <td>-0.896862</td>\n      <td>-0.649113</td>\n      <td>0.265082</td>\n      <td>-0.512922</td>\n    </tr>\n  </tbody>\n</table>\n<p>303 rows × 13 columns</p>\n</div>"
     },
     "metadata": {},
     "execution_count": 222
    }
   ],
   "source": [
    "#_scaling = StandardScaler()\n",
    "#x_scaled = _scaling.fit_transform(x_scaled)\n",
    "#y_scaled = _scaling.fit_transform(y_scaled)\n",
    "\n",
    "x = data_heart.drop(columns='target')\n",
    "y = data_heart['target']\n",
    "\n",
    "x_scaled = StandardScaler().fit_transform(x)\n",
    "\n",
    "data_scaled = pds.DataFrame(x_scaled, columns=data_heart.columns.drop(['target']))\n",
    "\n",
    "data_scaled"
   ]
  },
  {
   "cell_type": "code",
   "execution_count": 224,
   "metadata": {},
   "outputs": [
    {
     "output_type": "stream",
     "name": "stdout",
     "text": [
      "Optimization terminated successfully.\n         Current function value: 0.348904\n         Iterations 7\n                           Logit Regression Results                           \n==============================================================================\nDep. Variable:                 target   No. Observations:                  303\nModel:                          Logit   Df Residuals:                      289\nMethod:                           MLE   Df Model:                           13\nDate:                Sat, 10 Apr 2021   Pseudo R-squ.:                  0.4937\nTime:                        01:18:16   Log-Likelihood:                -105.72\nconverged:                       True   LL-Null:                       -208.82\nCovariance Type:            nonrobust   LLR p-value:                 7.262e-37\n==============================================================================\n                 coef    std err          z      P>|z|      [0.025      0.975]\n------------------------------------------------------------------------------\nconst          0.1165      0.183      0.636      0.524      -0.242       0.475\nage           -0.0445      0.210     -0.212      0.832      -0.456       0.367\nsex           -0.8180      0.218     -3.751      0.000      -1.245      -0.391\ncp             0.8859      0.191      4.638      0.000       0.512       1.260\ntrestbps      -0.3410      0.181     -1.884      0.060      -0.696       0.014\nchol          -0.2396      0.196     -1.224      0.221      -0.623       0.144\nfbs            0.0124      0.188      0.066      0.947      -0.357       0.381\nrestecg        0.2448      0.183      1.339      0.181      -0.114       0.603\nthalach        0.5308      0.239      2.219      0.026       0.062       1.000\nexang         -0.4596      0.192     -2.391      0.017      -0.836      -0.083\noldpeak       -0.6263      0.248     -2.526      0.012      -1.112      -0.140\nslope          0.3564      0.215      1.656      0.098      -0.065       0.778\nca            -0.7895      0.195     -4.051      0.000      -1.171      -0.408\nthal          -0.5504      0.177     -3.104      0.002      -0.898      -0.203\n==============================================================================\n"
     ]
    }
   ],
   "source": [
    "result_log = sm.Logit(y, sm.add_constant(data_scaled)).fit()\n",
    "\n",
    "print(result_log.summary())"
   ]
  },
  {
   "cell_type": "code",
   "execution_count": 226,
   "metadata": {},
   "outputs": [
    {
     "output_type": "execute_result",
     "data": {
      "text/plain": [
       "        sex        cp   thalach     exang   oldpeak        ca      thal\n",
       "0  0.681005  1.973123  0.015443 -0.696631  1.087338 -0.714429 -2.148873\n",
       "1  0.681005  1.002577  1.633471 -0.696631  2.122573 -0.714429 -0.512922\n",
       "2 -1.468418  0.032031  0.977514 -0.696631  0.310912 -0.714429 -0.512922\n",
       "3  0.681005  0.032031  1.239897 -0.696631 -0.206705 -0.714429 -0.512922\n",
       "4 -1.468418 -0.938515  0.583939  1.435481 -0.379244 -0.714429 -0.512922"
      ],
      "text/html": "<div>\n<style scoped>\n    .dataframe tbody tr th:only-of-type {\n        vertical-align: middle;\n    }\n\n    .dataframe tbody tr th {\n        vertical-align: top;\n    }\n\n    .dataframe thead th {\n        text-align: right;\n    }\n</style>\n<table border=\"1\" class=\"dataframe\">\n  <thead>\n    <tr style=\"text-align: right;\">\n      <th></th>\n      <th>sex</th>\n      <th>cp</th>\n      <th>thalach</th>\n      <th>exang</th>\n      <th>oldpeak</th>\n      <th>ca</th>\n      <th>thal</th>\n    </tr>\n  </thead>\n  <tbody>\n    <tr>\n      <th>0</th>\n      <td>0.681005</td>\n      <td>1.973123</td>\n      <td>0.015443</td>\n      <td>-0.696631</td>\n      <td>1.087338</td>\n      <td>-0.714429</td>\n      <td>-2.148873</td>\n    </tr>\n    <tr>\n      <th>1</th>\n      <td>0.681005</td>\n      <td>1.002577</td>\n      <td>1.633471</td>\n      <td>-0.696631</td>\n      <td>2.122573</td>\n      <td>-0.714429</td>\n      <td>-0.512922</td>\n    </tr>\n    <tr>\n      <th>2</th>\n      <td>-1.468418</td>\n      <td>0.032031</td>\n      <td>0.977514</td>\n      <td>-0.696631</td>\n      <td>0.310912</td>\n      <td>-0.714429</td>\n      <td>-0.512922</td>\n    </tr>\n    <tr>\n      <th>3</th>\n      <td>0.681005</td>\n      <td>0.032031</td>\n      <td>1.239897</td>\n      <td>-0.696631</td>\n      <td>-0.206705</td>\n      <td>-0.714429</td>\n      <td>-0.512922</td>\n    </tr>\n    <tr>\n      <th>4</th>\n      <td>-1.468418</td>\n      <td>-0.938515</td>\n      <td>0.583939</td>\n      <td>1.435481</td>\n      <td>-0.379244</td>\n      <td>-0.714429</td>\n      <td>-0.512922</td>\n    </tr>\n  </tbody>\n</table>\n</div>"
     },
     "metadata": {},
     "execution_count": 226
    }
   ],
   "source": [
    "data_var_sig = data_scaled.drop(columns=['age', 'trestbps', 'chol', 'fbs', 'restecg', 'slope'])\n",
    "\n",
    "data_var_sig.head()"
   ]
  },
  {
   "cell_type": "code",
   "execution_count": 228,
   "metadata": {},
   "outputs": [
    {
     "output_type": "stream",
     "name": "stdout",
     "text": [
      "Optimization terminated successfully.\n         Current function value: 0.368502\n         Iterations 7\n                           Logit Regression Results                           \n==============================================================================\nDep. Variable:                 target   No. Observations:                  303\nModel:                          Logit   Df Residuals:                      295\nMethod:                           MLE   Df Model:                            7\nDate:                Sat, 10 Apr 2021   Pseudo R-squ.:                  0.4653\nTime:                        01:20:56   Log-Likelihood:                -111.66\nconverged:                       True   LL-Null:                       -208.82\nCovariance Type:            nonrobust   LLR p-value:                 1.824e-38\n==============================================================================\n                 coef    std err          z      P>|z|      [0.025      0.975]\n------------------------------------------------------------------------------\nconst          0.1118      0.174      0.641      0.522      -0.230       0.454\nsex           -0.6465      0.189     -3.425      0.001      -1.017      -0.276\ncp             0.8111      0.180      4.505      0.000       0.458       1.164\nthalach        0.5412      0.202      2.685      0.007       0.146       0.936\nexang         -0.4900      0.182     -2.686      0.007      -0.848      -0.132\noldpeak       -0.8585      0.211     -4.061      0.000      -1.273      -0.444\nca            -0.7283      0.178     -4.090      0.000      -1.077      -0.379\nthal          -0.5479      0.168     -3.265      0.001      -0.877      -0.219\n==============================================================================\n"
     ]
    }
   ],
   "source": [
    "result_log = sm.Logit(y, sm.add_constant(data_var_sig)).fit()\n",
    "\n",
    "print(result_log.summary())"
   ]
  },
  {
   "cell_type": "code",
   "execution_count": 165,
   "metadata": {},
   "outputs": [],
   "source": [
    "#_scaling = StandardScaler()\n",
    "\n",
    "#data_scaled = pds.DataFrame(_scaling.fit_transform(data_var_sig), columns=data_var_sig.columns)\n",
    "#data_scaled.head(10)\n",
    "\n",
    "#x_scaled = data_scaled.drop(columns='target')\n",
    "#y_scaled = data_scaled['target']"
   ]
  },
  {
   "cell_type": "code",
   "execution_count": 244,
   "metadata": {},
   "outputs": [
    {
     "output_type": "stream",
     "name": "stdout",
     "text": [
      "[0.19165696]\n"
     ]
    }
   ],
   "source": [
    "x_train, x_test, y_train, y_test = train_test_split(data_scaled, y, test_size=0.5, random_state=0)\n",
    "\n",
    "_reg = LogisticRegression()\n",
    "log_reg = _reg.fit(x_train, y_train)\n",
    "\n",
    "print(log_reg.intercept_)"
   ]
  },
  {
   "cell_type": "code",
   "execution_count": 245,
   "metadata": {},
   "outputs": [
    {
     "output_type": "execute_result",
     "data": {
      "text/plain": [
       "          age       sex        cp  ...      thal  prob_value  prob\n",
       "225  1.724218  0.681005 -0.938515  ...  1.123029    0.024164     0\n",
       "152  1.062485  0.681005  1.973123  ...  1.123029    0.809692     1\n",
       "228  0.511041  0.681005  1.973123  ...  1.123029    0.787528     1\n",
       "201  0.621330  0.681005 -0.938515  ...  1.123029    0.011824     0\n",
       "52   0.841908  0.681005  1.002577  ...  1.123029    0.045033     0\n",
       "..        ...       ...       ...  ...       ...         ...   ...\n",
       "3    0.180175  0.681005  0.032031  ... -0.512922    0.931219     1\n",
       "161  0.069886 -1.468418  0.032031  ... -0.512922    0.949842     1\n",
       "125 -2.246179 -1.468418  0.032031  ... -0.512922    0.995647     1\n",
       "24  -1.584446  0.681005  1.973123  ...  1.123029    0.785534     1\n",
       "30  -1.474158 -1.468418  0.032031  ... -0.512922    0.986987     1\n",
       "\n",
       "[152 rows x 15 columns]"
      ],
      "text/html": "<div>\n<style scoped>\n    .dataframe tbody tr th:only-of-type {\n        vertical-align: middle;\n    }\n\n    .dataframe tbody tr th {\n        vertical-align: top;\n    }\n\n    .dataframe thead th {\n        text-align: right;\n    }\n</style>\n<table border=\"1\" class=\"dataframe\">\n  <thead>\n    <tr style=\"text-align: right;\">\n      <th></th>\n      <th>age</th>\n      <th>sex</th>\n      <th>cp</th>\n      <th>trestbps</th>\n      <th>chol</th>\n      <th>fbs</th>\n      <th>restecg</th>\n      <th>thalach</th>\n      <th>exang</th>\n      <th>oldpeak</th>\n      <th>slope</th>\n      <th>ca</th>\n      <th>thal</th>\n      <th>prob_value</th>\n      <th>prob</th>\n    </tr>\n  </thead>\n  <tbody>\n    <tr>\n      <th>225</th>\n      <td>1.724218</td>\n      <td>0.681005</td>\n      <td>-0.938515</td>\n      <td>0.763956</td>\n      <td>-1.396537</td>\n      <td>-0.417635</td>\n      <td>0.898962</td>\n      <td>-1.077820</td>\n      <td>1.435481</td>\n      <td>1.346147</td>\n      <td>-2.274579</td>\n      <td>-0.714429</td>\n      <td>1.123029</td>\n      <td>0.024164</td>\n      <td>0</td>\n    </tr>\n    <tr>\n      <th>152</th>\n      <td>1.062485</td>\n      <td>0.681005</td>\n      <td>1.973123</td>\n      <td>2.191778</td>\n      <td>-0.372287</td>\n      <td>-0.417635</td>\n      <td>-1.005832</td>\n      <td>0.234095</td>\n      <td>-0.696631</td>\n      <td>-0.379244</td>\n      <td>-0.649113</td>\n      <td>-0.714429</td>\n      <td>1.123029</td>\n      <td>0.809692</td>\n      <td>1</td>\n    </tr>\n    <tr>\n      <th>228</th>\n      <td>0.511041</td>\n      <td>0.681005</td>\n      <td>1.973123</td>\n      <td>2.191778</td>\n      <td>0.806568</td>\n      <td>-0.417635</td>\n      <td>-1.005832</td>\n      <td>0.409017</td>\n      <td>-0.696631</td>\n      <td>-0.724323</td>\n      <td>-0.649113</td>\n      <td>-0.714429</td>\n      <td>1.123029</td>\n      <td>0.787528</td>\n      <td>1</td>\n    </tr>\n    <tr>\n      <th>201</th>\n      <td>0.621330</td>\n      <td>0.681005</td>\n      <td>-0.938515</td>\n      <td>-0.378302</td>\n      <td>0.226803</td>\n      <td>-0.417635</td>\n      <td>-1.005832</td>\n      <td>-0.378132</td>\n      <td>1.435481</td>\n      <td>1.518686</td>\n      <td>-0.649113</td>\n      <td>0.265082</td>\n      <td>1.123029</td>\n      <td>0.011824</td>\n      <td>0</td>\n    </tr>\n    <tr>\n      <th>52</th>\n      <td>0.841908</td>\n      <td>0.681005</td>\n      <td>1.002577</td>\n      <td>-0.092738</td>\n      <td>-0.294985</td>\n      <td>-0.417635</td>\n      <td>0.898962</td>\n      <td>-0.159479</td>\n      <td>-0.696631</td>\n      <td>0.655990</td>\n      <td>-0.649113</td>\n      <td>2.224104</td>\n      <td>1.123029</td>\n      <td>0.045033</td>\n      <td>0</td>\n    </tr>\n    <tr>\n      <th>...</th>\n      <td>...</td>\n      <td>...</td>\n      <td>...</td>\n      <td>...</td>\n      <td>...</td>\n      <td>...</td>\n      <td>...</td>\n      <td>...</td>\n      <td>...</td>\n      <td>...</td>\n      <td>...</td>\n      <td>...</td>\n      <td>...</td>\n      <td>...</td>\n      <td>...</td>\n    </tr>\n    <tr>\n      <th>3</th>\n      <td>0.180175</td>\n      <td>0.681005</td>\n      <td>0.032031</td>\n      <td>-0.663867</td>\n      <td>-0.198357</td>\n      <td>-0.417635</td>\n      <td>0.898962</td>\n      <td>1.239897</td>\n      <td>-0.696631</td>\n      <td>-0.206705</td>\n      <td>0.976352</td>\n      <td>-0.714429</td>\n      <td>-0.512922</td>\n      <td>0.931219</td>\n      <td>1</td>\n    </tr>\n    <tr>\n      <th>161</th>\n      <td>0.069886</td>\n      <td>-1.468418</td>\n      <td>0.032031</td>\n      <td>0.021488</td>\n      <td>1.850144</td>\n      <td>-0.417635</td>\n      <td>0.898962</td>\n      <td>0.715131</td>\n      <td>-0.696631</td>\n      <td>0.138373</td>\n      <td>0.976352</td>\n      <td>-0.714429</td>\n      <td>-0.512922</td>\n      <td>0.949842</td>\n      <td>1</td>\n    </tr>\n    <tr>\n      <th>125</th>\n      <td>-2.246179</td>\n      <td>-1.468418</td>\n      <td>0.032031</td>\n      <td>-0.778093</td>\n      <td>-0.700820</td>\n      <td>-0.417635</td>\n      <td>0.898962</td>\n      <td>1.852124</td>\n      <td>-0.696631</td>\n      <td>-0.292975</td>\n      <td>0.976352</td>\n      <td>-0.714429</td>\n      <td>-0.512922</td>\n      <td>0.995647</td>\n      <td>1</td>\n    </tr>\n    <tr>\n      <th>24</th>\n      <td>-1.584446</td>\n      <td>0.681005</td>\n      <td>1.973123</td>\n      <td>0.478391</td>\n      <td>-0.913400</td>\n      <td>-0.417635</td>\n      <td>0.898962</td>\n      <td>1.239897</td>\n      <td>1.435481</td>\n      <td>0.310912</td>\n      <td>0.976352</td>\n      <td>-0.714429</td>\n      <td>1.123029</td>\n      <td>0.785534</td>\n      <td>1</td>\n    </tr>\n    <tr>\n      <th>30</th>\n      <td>-1.474158</td>\n      <td>-1.468418</td>\n      <td>0.032031</td>\n      <td>-1.520560</td>\n      <td>-0.932726</td>\n      <td>-0.417635</td>\n      <td>0.898962</td>\n      <td>0.802592</td>\n      <td>-0.696631</td>\n      <td>-0.896862</td>\n      <td>0.976352</td>\n      <td>0.265082</td>\n      <td>-0.512922</td>\n      <td>0.986987</td>\n      <td>1</td>\n    </tr>\n  </tbody>\n</table>\n<p>152 rows × 15 columns</p>\n</div>"
     },
     "metadata": {},
     "execution_count": 245
    }
   ],
   "source": [
    "pred = _reg.predict(x_test)\n",
    "\n",
    "y_pred_prob = _reg.predict_proba(x_test)[:,1]\n",
    "\n",
    "data_prob = pds.DataFrame(x_test)\n",
    "data_prob['prob_value'] = y_pred_prob\n",
    "data_prob['prob'] = pred\n",
    "\n",
    "data_prob"
   ]
  },
  {
   "cell_type": "code",
   "execution_count": 246,
   "metadata": {},
   "outputs": [
    {
     "output_type": "stream",
     "name": "stdout",
     "text": [
      "1    96\n0    56\nName: prob, dtype: int64\n"
     ]
    }
   ],
   "source": [
    "print(data_prob['prob'].value_counts())"
   ]
  },
  {
   "cell_type": "code",
   "execution_count": 182,
   "metadata": {},
   "outputs": [],
   "source": [
    "#pred = _reg.predict(x_test_scaled)\n",
    "\n",
    "#y_pred_prob = _reg.predict_proba(x_test_scaled)[:,1]\n",
    "\n",
    "#data_prob = pds.DataFrame(x_test)\n",
    "#data_prob['pred_value'] = y_pred_prob\n",
    "#data_prob['prob'] = pred\n",
    "\n",
    "#data_prob"
   ]
  },
  {
   "cell_type": "code",
   "execution_count": 247,
   "metadata": {},
   "outputs": [
    {
     "output_type": "stream",
     "name": "stdout",
     "text": [
      "              precision    recall  f1-score   support\n\n           0       0.84      0.68      0.75        69\n           1       0.77      0.89      0.83        83\n\n    accuracy                           0.80       152\n   macro avg       0.81      0.79      0.79       152\nweighted avg       0.80      0.80      0.79       152\n\n"
     ]
    }
   ],
   "source": [
    "print(classification_report(y_test, pred))"
   ]
  },
  {
   "cell_type": "code",
   "execution_count": null,
   "metadata": {},
   "outputs": [],
   "source": []
  }
 ]
}