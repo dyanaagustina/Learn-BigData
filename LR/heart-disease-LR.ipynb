{
 "metadata": {
  "language_info": {
   "codemirror_mode": {
    "name": "ipython",
    "version": 3
   },
   "file_extension": ".py",
   "mimetype": "text/x-python",
   "name": "python",
   "nbconvert_exporter": "python",
   "pygments_lexer": "ipython3",
   "version": "3.9.1-final"
  },
  "orig_nbformat": 2,
  "kernelspec": {
   "name": "python3",
   "display_name": "Python 3.9.1 64-bit",
   "metadata": {
    "interpreter": {
     "hash": "aee8b7b246df8f9039afb4144a1f6fd8d2ca17a180786b69acc140d282b71a49"
    }
   }
  }
 },
 "nbformat": 4,
 "nbformat_minor": 2,
 "cells": [
  {
   "cell_type": "code",
   "execution_count": 144,
   "metadata": {},
   "outputs": [
    {
     "output_type": "execute_result",
     "data": {
      "text/plain": [
       "   age  sex  cp  trestbps  chol  fbs  ...  exang  oldpeak  slope  ca  thal  target\n",
       "0   63    1   3       145   233    1  ...      0      2.3      0   0     1       1\n",
       "1   37    1   2       130   250    0  ...      0      3.5      0   0     2       1\n",
       "2   41    0   1       130   204    0  ...      0      1.4      2   0     2       1\n",
       "3   56    1   1       120   236    0  ...      0      0.8      2   0     2       1\n",
       "4   57    0   0       120   354    0  ...      1      0.6      2   0     2       1\n",
       "\n",
       "[5 rows x 14 columns]"
      ],
      "text/html": "<div>\n<style scoped>\n    .dataframe tbody tr th:only-of-type {\n        vertical-align: middle;\n    }\n\n    .dataframe tbody tr th {\n        vertical-align: top;\n    }\n\n    .dataframe thead th {\n        text-align: right;\n    }\n</style>\n<table border=\"1\" class=\"dataframe\">\n  <thead>\n    <tr style=\"text-align: right;\">\n      <th></th>\n      <th>age</th>\n      <th>sex</th>\n      <th>cp</th>\n      <th>trestbps</th>\n      <th>chol</th>\n      <th>fbs</th>\n      <th>restecg</th>\n      <th>thalach</th>\n      <th>exang</th>\n      <th>oldpeak</th>\n      <th>slope</th>\n      <th>ca</th>\n      <th>thal</th>\n      <th>target</th>\n    </tr>\n  </thead>\n  <tbody>\n    <tr>\n      <th>0</th>\n      <td>63</td>\n      <td>1</td>\n      <td>3</td>\n      <td>145</td>\n      <td>233</td>\n      <td>1</td>\n      <td>0</td>\n      <td>150</td>\n      <td>0</td>\n      <td>2.3</td>\n      <td>0</td>\n      <td>0</td>\n      <td>1</td>\n      <td>1</td>\n    </tr>\n    <tr>\n      <th>1</th>\n      <td>37</td>\n      <td>1</td>\n      <td>2</td>\n      <td>130</td>\n      <td>250</td>\n      <td>0</td>\n      <td>1</td>\n      <td>187</td>\n      <td>0</td>\n      <td>3.5</td>\n      <td>0</td>\n      <td>0</td>\n      <td>2</td>\n      <td>1</td>\n    </tr>\n    <tr>\n      <th>2</th>\n      <td>41</td>\n      <td>0</td>\n      <td>1</td>\n      <td>130</td>\n      <td>204</td>\n      <td>0</td>\n      <td>0</td>\n      <td>172</td>\n      <td>0</td>\n      <td>1.4</td>\n      <td>2</td>\n      <td>0</td>\n      <td>2</td>\n      <td>1</td>\n    </tr>\n    <tr>\n      <th>3</th>\n      <td>56</td>\n      <td>1</td>\n      <td>1</td>\n      <td>120</td>\n      <td>236</td>\n      <td>0</td>\n      <td>1</td>\n      <td>178</td>\n      <td>0</td>\n      <td>0.8</td>\n      <td>2</td>\n      <td>0</td>\n      <td>2</td>\n      <td>1</td>\n    </tr>\n    <tr>\n      <th>4</th>\n      <td>57</td>\n      <td>0</td>\n      <td>0</td>\n      <td>120</td>\n      <td>354</td>\n      <td>0</td>\n      <td>1</td>\n      <td>163</td>\n      <td>1</td>\n      <td>0.6</td>\n      <td>2</td>\n      <td>0</td>\n      <td>2</td>\n      <td>1</td>\n    </tr>\n  </tbody>\n</table>\n</div>"
     },
     "metadata": {},
     "execution_count": 144
    }
   ],
   "source": [
    "import pandas as pds\n",
    "import seaborn as sbn\n",
    "import numpy as npy\n",
    "import matplotlib.pyplot as plb\n",
    "import statsmodels.api as sm\n",
    "\n",
    "from sklearn.model_selection import train_test_split\n",
    "from sklearn.linear_model import LogisticRegression\n",
    "from sklearn.preprocessing import StandardScaler\n",
    "from sklearn.metrics import confusion_matrix, classification_report\n",
    "\n",
    "\n",
    "data_heart = pds.read_csv('heart.csv')\n",
    "data_heart.head()"
   ]
  },
  {
   "cell_type": "code",
   "execution_count": 83,
   "metadata": {},
   "outputs": [
    {
     "output_type": "execute_result",
     "data": {
      "text/plain": [
       "(303, 14)"
      ]
     },
     "metadata": {},
     "execution_count": 83
    }
   ],
   "source": [
    "data_heart.shape"
   ]
  },
  {
   "cell_type": "code",
   "execution_count": 84,
   "metadata": {},
   "outputs": [
    {
     "output_type": "stream",
     "name": "stdout",
     "text": [
      "<class 'pandas.core.frame.DataFrame'>\nRangeIndex: 303 entries, 0 to 302\nData columns (total 14 columns):\n #   Column    Non-Null Count  Dtype  \n---  ------    --------------  -----  \n 0   age       303 non-null    int64  \n 1   sex       303 non-null    int64  \n 2   cp        303 non-null    int64  \n 3   trestbps  303 non-null    int64  \n 4   chol      303 non-null    int64  \n 5   fbs       303 non-null    int64  \n 6   restecg   303 non-null    int64  \n 7   thalach   303 non-null    int64  \n 8   exang     303 non-null    int64  \n 9   oldpeak   303 non-null    float64\n 10  slope     303 non-null    int64  \n 11  ca        303 non-null    int64  \n 12  thal      303 non-null    int64  \n 13  target    303 non-null    int64  \ndtypes: float64(1), int64(13)\nmemory usage: 33.3 KB\n"
     ]
    }
   ],
   "source": [
    "data_heart.info()"
   ]
  },
  {
   "cell_type": "code",
   "execution_count": 85,
   "metadata": {},
   "outputs": [
    {
     "output_type": "execute_result",
     "data": {
      "text/plain": [
       "age         0\n",
       "sex         0\n",
       "cp          0\n",
       "trestbps    0\n",
       "chol        0\n",
       "fbs         0\n",
       "restecg     0\n",
       "thalach     0\n",
       "exang       0\n",
       "oldpeak     0\n",
       "slope       0\n",
       "ca          0\n",
       "thal        0\n",
       "target      0\n",
       "dtype: int64"
      ]
     },
     "metadata": {},
     "execution_count": 85
    }
   ],
   "source": [
    "data_heart.isnull().sum()"
   ]
  },
  {
   "cell_type": "code",
   "execution_count": 86,
   "metadata": {},
   "outputs": [
    {
     "output_type": "execute_result",
     "data": {
      "text/plain": [
       "              age         sex          cp  ...          ca        thal      target\n",
       "count  303.000000  303.000000  303.000000  ...  303.000000  303.000000  303.000000\n",
       "mean    54.366337    0.683168    0.966997  ...    0.729373    2.313531    0.544554\n",
       "std      9.082101    0.466011    1.032052  ...    1.022606    0.612277    0.498835\n",
       "min     29.000000    0.000000    0.000000  ...    0.000000    0.000000    0.000000\n",
       "25%     47.500000    0.000000    0.000000  ...    0.000000    2.000000    0.000000\n",
       "50%     55.000000    1.000000    1.000000  ...    0.000000    2.000000    1.000000\n",
       "75%     61.000000    1.000000    2.000000  ...    1.000000    3.000000    1.000000\n",
       "max     77.000000    1.000000    3.000000  ...    4.000000    3.000000    1.000000\n",
       "\n",
       "[8 rows x 14 columns]"
      ],
      "text/html": "<div>\n<style scoped>\n    .dataframe tbody tr th:only-of-type {\n        vertical-align: middle;\n    }\n\n    .dataframe tbody tr th {\n        vertical-align: top;\n    }\n\n    .dataframe thead th {\n        text-align: right;\n    }\n</style>\n<table border=\"1\" class=\"dataframe\">\n  <thead>\n    <tr style=\"text-align: right;\">\n      <th></th>\n      <th>age</th>\n      <th>sex</th>\n      <th>cp</th>\n      <th>trestbps</th>\n      <th>chol</th>\n      <th>fbs</th>\n      <th>restecg</th>\n      <th>thalach</th>\n      <th>exang</th>\n      <th>oldpeak</th>\n      <th>slope</th>\n      <th>ca</th>\n      <th>thal</th>\n      <th>target</th>\n    </tr>\n  </thead>\n  <tbody>\n    <tr>\n      <th>count</th>\n      <td>303.000000</td>\n      <td>303.000000</td>\n      <td>303.000000</td>\n      <td>303.000000</td>\n      <td>303.000000</td>\n      <td>303.000000</td>\n      <td>303.000000</td>\n      <td>303.000000</td>\n      <td>303.000000</td>\n      <td>303.000000</td>\n      <td>303.000000</td>\n      <td>303.000000</td>\n      <td>303.000000</td>\n      <td>303.000000</td>\n    </tr>\n    <tr>\n      <th>mean</th>\n      <td>54.366337</td>\n      <td>0.683168</td>\n      <td>0.966997</td>\n      <td>131.623762</td>\n      <td>246.264026</td>\n      <td>0.148515</td>\n      <td>0.528053</td>\n      <td>149.646865</td>\n      <td>0.326733</td>\n      <td>1.039604</td>\n      <td>1.399340</td>\n      <td>0.729373</td>\n      <td>2.313531</td>\n      <td>0.544554</td>\n    </tr>\n    <tr>\n      <th>std</th>\n      <td>9.082101</td>\n      <td>0.466011</td>\n      <td>1.032052</td>\n      <td>17.538143</td>\n      <td>51.830751</td>\n      <td>0.356198</td>\n      <td>0.525860</td>\n      <td>22.905161</td>\n      <td>0.469794</td>\n      <td>1.161075</td>\n      <td>0.616226</td>\n      <td>1.022606</td>\n      <td>0.612277</td>\n      <td>0.498835</td>\n    </tr>\n    <tr>\n      <th>min</th>\n      <td>29.000000</td>\n      <td>0.000000</td>\n      <td>0.000000</td>\n      <td>94.000000</td>\n      <td>126.000000</td>\n      <td>0.000000</td>\n      <td>0.000000</td>\n      <td>71.000000</td>\n      <td>0.000000</td>\n      <td>0.000000</td>\n      <td>0.000000</td>\n      <td>0.000000</td>\n      <td>0.000000</td>\n      <td>0.000000</td>\n    </tr>\n    <tr>\n      <th>25%</th>\n      <td>47.500000</td>\n      <td>0.000000</td>\n      <td>0.000000</td>\n      <td>120.000000</td>\n      <td>211.000000</td>\n      <td>0.000000</td>\n      <td>0.000000</td>\n      <td>133.500000</td>\n      <td>0.000000</td>\n      <td>0.000000</td>\n      <td>1.000000</td>\n      <td>0.000000</td>\n      <td>2.000000</td>\n      <td>0.000000</td>\n    </tr>\n    <tr>\n      <th>50%</th>\n      <td>55.000000</td>\n      <td>1.000000</td>\n      <td>1.000000</td>\n      <td>130.000000</td>\n      <td>240.000000</td>\n      <td>0.000000</td>\n      <td>1.000000</td>\n      <td>153.000000</td>\n      <td>0.000000</td>\n      <td>0.800000</td>\n      <td>1.000000</td>\n      <td>0.000000</td>\n      <td>2.000000</td>\n      <td>1.000000</td>\n    </tr>\n    <tr>\n      <th>75%</th>\n      <td>61.000000</td>\n      <td>1.000000</td>\n      <td>2.000000</td>\n      <td>140.000000</td>\n      <td>274.500000</td>\n      <td>0.000000</td>\n      <td>1.000000</td>\n      <td>166.000000</td>\n      <td>1.000000</td>\n      <td>1.600000</td>\n      <td>2.000000</td>\n      <td>1.000000</td>\n      <td>3.000000</td>\n      <td>1.000000</td>\n    </tr>\n    <tr>\n      <th>max</th>\n      <td>77.000000</td>\n      <td>1.000000</td>\n      <td>3.000000</td>\n      <td>200.000000</td>\n      <td>564.000000</td>\n      <td>1.000000</td>\n      <td>2.000000</td>\n      <td>202.000000</td>\n      <td>1.000000</td>\n      <td>6.200000</td>\n      <td>2.000000</td>\n      <td>4.000000</td>\n      <td>3.000000</td>\n      <td>1.000000</td>\n    </tr>\n  </tbody>\n</table>\n</div>"
     },
     "metadata": {},
     "execution_count": 86
    }
   ],
   "source": [
    "data_heart.describe()"
   ]
  },
  {
   "cell_type": "code",
   "execution_count": 87,
   "metadata": {},
   "outputs": [
    {
     "output_type": "stream",
     "name": "stdout",
     "text": [
      "Optimization terminated successfully.\n         Current function value: 0.348904\n         Iterations 7\n                           Logit Regression Results                           \n==============================================================================\nDep. Variable:                 target   No. Observations:                  303\nModel:                          Logit   Df Residuals:                      289\nMethod:                           MLE   Df Model:                           13\nDate:                Thu, 08 Apr 2021   Pseudo R-squ.:                  0.4937\nTime:                        11:01:25   Log-Likelihood:                -105.72\nconverged:                       True   LL-Null:                       -208.82\nCovariance Type:            nonrobust   LLR p-value:                 7.262e-37\n==============================================================================\n                 coef    std err          z      P>|z|      [0.025      0.975]\n------------------------------------------------------------------------------\nconst          3.4505      2.571      1.342      0.180      -1.590       8.490\nage           -0.0049      0.023     -0.212      0.832      -0.050       0.041\nsex           -1.7582      0.469     -3.751      0.000      -2.677      -0.839\ncp             0.8599      0.185      4.638      0.000       0.496       1.223\ntrestbps      -0.0195      0.010     -1.884      0.060      -0.040       0.001\nchol          -0.0046      0.004     -1.224      0.221      -0.012       0.003\nfbs            0.0349      0.529      0.066      0.947      -1.003       1.073\nrestecg        0.4663      0.348      1.339      0.181      -0.216       1.149\nthalach        0.0232      0.010      2.219      0.026       0.003       0.044\nexang         -0.9800      0.410     -2.391      0.017      -1.783      -0.177\noldpeak       -0.5403      0.214     -2.526      0.012      -0.959      -0.121\nslope          0.5793      0.350      1.656      0.098      -0.106       1.265\nca            -0.7733      0.191     -4.051      0.000      -1.147      -0.399\nthal          -0.9004      0.290     -3.104      0.002      -1.469      -0.332\n==============================================================================\n"
     ]
    }
   ],
   "source": [
    "x = data_heart.drop(columns='target')\n",
    "y = data_heart['target']\n",
    "\n",
    "result_log = sm.Logit(y, sm.add_constant(x)).fit()\n",
    "\n",
    "print(result_log.summary())"
   ]
  },
  {
   "cell_type": "code",
   "execution_count": 88,
   "metadata": {},
   "outputs": [
    {
     "output_type": "execute_result",
     "data": {
      "text/plain": [
       "   sex  cp  thalach  exang  oldpeak  ca  thal  target\n",
       "0    1   3      150      0      2.3   0     1       1\n",
       "1    1   2      187      0      3.5   0     2       1\n",
       "2    0   1      172      0      1.4   0     2       1\n",
       "3    1   1      178      0      0.8   0     2       1\n",
       "4    0   0      163      1      0.6   0     2       1"
      ],
      "text/html": "<div>\n<style scoped>\n    .dataframe tbody tr th:only-of-type {\n        vertical-align: middle;\n    }\n\n    .dataframe tbody tr th {\n        vertical-align: top;\n    }\n\n    .dataframe thead th {\n        text-align: right;\n    }\n</style>\n<table border=\"1\" class=\"dataframe\">\n  <thead>\n    <tr style=\"text-align: right;\">\n      <th></th>\n      <th>sex</th>\n      <th>cp</th>\n      <th>thalach</th>\n      <th>exang</th>\n      <th>oldpeak</th>\n      <th>ca</th>\n      <th>thal</th>\n      <th>target</th>\n    </tr>\n  </thead>\n  <tbody>\n    <tr>\n      <th>0</th>\n      <td>1</td>\n      <td>3</td>\n      <td>150</td>\n      <td>0</td>\n      <td>2.3</td>\n      <td>0</td>\n      <td>1</td>\n      <td>1</td>\n    </tr>\n    <tr>\n      <th>1</th>\n      <td>1</td>\n      <td>2</td>\n      <td>187</td>\n      <td>0</td>\n      <td>3.5</td>\n      <td>0</td>\n      <td>2</td>\n      <td>1</td>\n    </tr>\n    <tr>\n      <th>2</th>\n      <td>0</td>\n      <td>1</td>\n      <td>172</td>\n      <td>0</td>\n      <td>1.4</td>\n      <td>0</td>\n      <td>2</td>\n      <td>1</td>\n    </tr>\n    <tr>\n      <th>3</th>\n      <td>1</td>\n      <td>1</td>\n      <td>178</td>\n      <td>0</td>\n      <td>0.8</td>\n      <td>0</td>\n      <td>2</td>\n      <td>1</td>\n    </tr>\n    <tr>\n      <th>4</th>\n      <td>0</td>\n      <td>0</td>\n      <td>163</td>\n      <td>1</td>\n      <td>0.6</td>\n      <td>0</td>\n      <td>2</td>\n      <td>1</td>\n    </tr>\n  </tbody>\n</table>\n</div>"
     },
     "metadata": {},
     "execution_count": 88
    }
   ],
   "source": [
    "data_var_sig = data_heart.drop(columns=['age', 'trestbps', 'chol', 'fbs', 'restecg', 'slope'])\n",
    "\n",
    "data_var_sig.head()"
   ]
  },
  {
   "cell_type": "code",
   "execution_count": 89,
   "metadata": {},
   "outputs": [
    {
     "output_type": "stream",
     "name": "stdout",
     "text": [
      "Optimization terminated successfully.\n         Current function value: 0.368502\n         Iterations 7\n                           Logit Regression Results                           \n==============================================================================\nDep. Variable:                 target   No. Observations:                  303\nModel:                          Logit   Df Residuals:                      295\nMethod:                           MLE   Df Model:                            7\nDate:                Thu, 08 Apr 2021   Pseudo R-squ.:                  0.4653\nTime:                        11:01:30   Log-Likelihood:                -111.66\nconverged:                       True   LL-Null:                       -208.82\nCovariance Type:            nonrobust   LLR p-value:                 1.824e-38\n==============================================================================\n                 coef    std err          z      P>|z|      [0.025      0.975]\n------------------------------------------------------------------------------\nconst          0.4636      1.482      0.313      0.754      -2.440       3.367\nsex           -1.3896      0.406     -3.425      0.001      -2.185      -0.594\ncp             0.7872      0.175      4.505      0.000       0.445       1.130\nthalach        0.0237      0.009      2.685      0.007       0.006       0.041\nexang         -1.0447      0.389     -2.686      0.007      -1.807      -0.282\noldpeak       -0.7406      0.182     -4.061      0.000      -1.098      -0.383\nca            -0.7133      0.174     -4.090      0.000      -1.055      -0.372\nthal          -0.8963      0.275     -3.265      0.001      -1.434      -0.358\n==============================================================================\n"
     ]
    }
   ],
   "source": [
    "x = data_var_sig.drop(columns='target')\n",
    "y = data_var_sig['target']\n",
    "\n",
    "result_log = sm.Logit(y, sm.add_constant(x)).fit()\n",
    "\n",
    "print(result_log.summary())"
   ]
  },
  {
   "cell_type": "code",
   "execution_count": 165,
   "metadata": {},
   "outputs": [],
   "source": [
    "#_scaling = StandardScaler()\n",
    "\n",
    "#data_scaled = pds.DataFrame(_scaling.fit_transform(data_var_sig), columns=data_var_sig.columns)\n",
    "#data_scaled.head(10)\n",
    "\n",
    "#x_scaled = data_scaled.drop(columns='target')\n",
    "#y_scaled = data_scaled['target']"
   ]
  },
  {
   "cell_type": "code",
   "execution_count": 179,
   "metadata": {},
   "outputs": [
    {
     "output_type": "stream",
     "name": "stdout",
     "text": [
      "[0.08730542]\n"
     ]
    }
   ],
   "source": [
    "x_train, x_test, y_train, y_test = train_test_split(x, y, test_size=0.5, random_state=0)\n",
    "\n",
    "_scaling = StandardScaler()\n",
    "x_train_scaled = _scaling.fit_transform(x_train)\n",
    "x_test_scaled = _scaling.transform(x_test)\n",
    "\n",
    "_reg = LogisticRegression()\n",
    "log_reg = _reg.fit(x_train_scaled, y_train)\n",
    "\n",
    "print(log_reg.intercept_)"
   ]
  },
  {
   "cell_type": "code",
   "execution_count": 180,
   "metadata": {},
   "outputs": [
    {
     "output_type": "execute_result",
     "data": {
      "text/plain": [
       "     sex  cp  thalach  exang  oldpeak  ca  thal  prob_value  prob\n",
       "225    1   0      125      1      2.6   0     3    0.026858     0\n",
       "152    1   3      155      0      0.6   0     3    0.843861     1\n",
       "228    1   3      159      0      0.2   0     3    0.892495     1\n",
       "201    1   0      141      1      2.8   1     3    0.013635     0\n",
       "52     1   2      146      0      1.8   3     3    0.053054     0\n",
       "..   ...  ..      ...    ...      ...  ..   ...         ...   ...\n",
       "3      1   1      178      0      0.8   0     2    0.896377     1\n",
       "161    0   1      166      0      1.2   0     2    0.953161     1\n",
       "125    0   1      192      0      0.7   0     2    0.984047     1\n",
       "24     1   3      178      1      1.4   0     3    0.549259     1\n",
       "30     0   1      168      0      0.0   1     2    0.955242     1\n",
       "\n",
       "[152 rows x 9 columns]"
      ],
      "text/html": "<div>\n<style scoped>\n    .dataframe tbody tr th:only-of-type {\n        vertical-align: middle;\n    }\n\n    .dataframe tbody tr th {\n        vertical-align: top;\n    }\n\n    .dataframe thead th {\n        text-align: right;\n    }\n</style>\n<table border=\"1\" class=\"dataframe\">\n  <thead>\n    <tr style=\"text-align: right;\">\n      <th></th>\n      <th>sex</th>\n      <th>cp</th>\n      <th>thalach</th>\n      <th>exang</th>\n      <th>oldpeak</th>\n      <th>ca</th>\n      <th>thal</th>\n      <th>prob_value</th>\n      <th>prob</th>\n    </tr>\n  </thead>\n  <tbody>\n    <tr>\n      <th>225</th>\n      <td>1</td>\n      <td>0</td>\n      <td>125</td>\n      <td>1</td>\n      <td>2.6</td>\n      <td>0</td>\n      <td>3</td>\n      <td>0.026858</td>\n      <td>0</td>\n    </tr>\n    <tr>\n      <th>152</th>\n      <td>1</td>\n      <td>3</td>\n      <td>155</td>\n      <td>0</td>\n      <td>0.6</td>\n      <td>0</td>\n      <td>3</td>\n      <td>0.843861</td>\n      <td>1</td>\n    </tr>\n    <tr>\n      <th>228</th>\n      <td>1</td>\n      <td>3</td>\n      <td>159</td>\n      <td>0</td>\n      <td>0.2</td>\n      <td>0</td>\n      <td>3</td>\n      <td>0.892495</td>\n      <td>1</td>\n    </tr>\n    <tr>\n      <th>201</th>\n      <td>1</td>\n      <td>0</td>\n      <td>141</td>\n      <td>1</td>\n      <td>2.8</td>\n      <td>1</td>\n      <td>3</td>\n      <td>0.013635</td>\n      <td>0</td>\n    </tr>\n    <tr>\n      <th>52</th>\n      <td>1</td>\n      <td>2</td>\n      <td>146</td>\n      <td>0</td>\n      <td>1.8</td>\n      <td>3</td>\n      <td>3</td>\n      <td>0.053054</td>\n      <td>0</td>\n    </tr>\n    <tr>\n      <th>...</th>\n      <td>...</td>\n      <td>...</td>\n      <td>...</td>\n      <td>...</td>\n      <td>...</td>\n      <td>...</td>\n      <td>...</td>\n      <td>...</td>\n      <td>...</td>\n    </tr>\n    <tr>\n      <th>3</th>\n      <td>1</td>\n      <td>1</td>\n      <td>178</td>\n      <td>0</td>\n      <td>0.8</td>\n      <td>0</td>\n      <td>2</td>\n      <td>0.896377</td>\n      <td>1</td>\n    </tr>\n    <tr>\n      <th>161</th>\n      <td>0</td>\n      <td>1</td>\n      <td>166</td>\n      <td>0</td>\n      <td>1.2</td>\n      <td>0</td>\n      <td>2</td>\n      <td>0.953161</td>\n      <td>1</td>\n    </tr>\n    <tr>\n      <th>125</th>\n      <td>0</td>\n      <td>1</td>\n      <td>192</td>\n      <td>0</td>\n      <td>0.7</td>\n      <td>0</td>\n      <td>2</td>\n      <td>0.984047</td>\n      <td>1</td>\n    </tr>\n    <tr>\n      <th>24</th>\n      <td>1</td>\n      <td>3</td>\n      <td>178</td>\n      <td>1</td>\n      <td>1.4</td>\n      <td>0</td>\n      <td>3</td>\n      <td>0.549259</td>\n      <td>1</td>\n    </tr>\n    <tr>\n      <th>30</th>\n      <td>0</td>\n      <td>1</td>\n      <td>168</td>\n      <td>0</td>\n      <td>0.0</td>\n      <td>1</td>\n      <td>2</td>\n      <td>0.955242</td>\n      <td>1</td>\n    </tr>\n  </tbody>\n</table>\n<p>152 rows × 9 columns</p>\n</div>"
     },
     "metadata": {},
     "execution_count": 180
    }
   ],
   "source": [
    "pred = _reg.predict(x_test_scaled)\n",
    "\n",
    "y_pred_prob = _reg.predict_proba(x_test_scaled)[:,1]\n",
    "\n",
    "data_prob = pds.DataFrame(x_test)\n",
    "data_prob['prob_value'] = y_pred_prob\n",
    "data_prob['prob'] = pred\n",
    "\n",
    "data_prob"
   ]
  },
  {
   "cell_type": "code",
   "execution_count": 181,
   "metadata": {},
   "outputs": [
    {
     "output_type": "stream",
     "name": "stdout",
     "text": [
      "1    93\n0    59\nName: prob, dtype: int64\n"
     ]
    }
   ],
   "source": [
    "print(data_prob['prob'].value_counts())"
   ]
  },
  {
   "cell_type": "code",
   "execution_count": 182,
   "metadata": {},
   "outputs": [],
   "source": [
    "#pred = _reg.predict(x_test_scaled)\n",
    "\n",
    "#y_pred_prob = _reg.predict_proba(x_test_scaled)[:,1]\n",
    "\n",
    "#data_prob = pds.DataFrame(x_test)\n",
    "#data_prob['pred_value'] = y_pred_prob\n",
    "#data_prob['prob'] = pred\n",
    "\n",
    "#data_prob"
   ]
  },
  {
   "cell_type": "code",
   "execution_count": 186,
   "metadata": {},
   "outputs": [
    {
     "output_type": "stream",
     "name": "stdout",
     "text": [
      "              precision    recall  f1-score   support\n\n           0       0.81      0.70      0.75        69\n           1       0.77      0.87      0.82        83\n\n    accuracy                           0.79       152\n   macro avg       0.79      0.78      0.78       152\nweighted avg       0.79      0.79      0.79       152\n\n"
     ]
    }
   ],
   "source": [
    "print(classification_report(y_test, pred))"
   ]
  },
  {
   "cell_type": "code",
   "execution_count": null,
   "metadata": {},
   "outputs": [],
   "source": []
  }
 ]
}